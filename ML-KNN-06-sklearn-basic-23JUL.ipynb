{
 "cells": [
  {
   "cell_type": "markdown",
   "id": "671ddaf0-a76d-405d-8015-852f15130809",
   "metadata": {},
   "source": [
    "--------------------\n",
    "#### Aim : demonstrate a basic example on KNN\n",
    "----------------\n",
    "\n",
    "in python Machine learning-\n",
    "4 steps \n",
    "- Import the ML library\n",
    "- Instantiate the library\n",
    "- Fit the training to the lib\n",
    "- Predict for the new samples"
   ]
  },
  {
   "cell_type": "code",
   "execution_count": 4,
   "id": "421213b6-b0c3-48f3-90e7-710c322ad781",
   "metadata": {},
   "outputs": [],
   "source": [
    "import pandas as pd\n",
    "import numpy as np\n",
    "\n",
    "# import plotting libraries\n",
    "import matplotlib.pyplot as plt\n",
    "\n",
    "# import the ML algorithm\n",
    "from sklearn.neighbors import KNeighborsClassifier"
   ]
  },
  {
   "cell_type": "code",
   "execution_count": 5,
   "id": "c91c1553-de94-4f8e-93ba-22c87d16f980",
   "metadata": {},
   "outputs": [],
   "source": [
    "# training data\n",
    "X = [[0],   [1],    [4],       [55],   [50],    [51],  [60], [80], [84]]\n",
    "y = [ 0,      0,     0,         1,      1,       1,     1,     2,    2]"
   ]
  },
  {
   "cell_type": "code",
   "execution_count": 14,
   "id": "a26fca63-1476-4991-bfb2-cabd1dcece8f",
   "metadata": {},
   "outputs": [
    {
     "data": {
      "text/plain": [
       "KNeighborsClassifier(n_neighbors=6)"
      ]
     },
     "execution_count": 14,
     "metadata": {},
     "output_type": "execute_result"
    }
   ],
   "source": [
    "# instantiate the classifier - we will find three neighbors\n",
    "clf = KNeighborsClassifier(n_neighbors=3)  \n",
    "clf"
   ]
  },
  {
   "cell_type": "code",
   "execution_count": 15,
   "id": "8b67152b-9977-4e3b-b811-7a0a6f1d6fe4",
   "metadata": {},
   "outputs": [
    {
     "data": {
      "text/plain": [
       "KNeighborsClassifier(n_neighbors=6)"
      ]
     },
     "execution_count": 15,
     "metadata": {},
     "output_type": "execute_result"
    }
   ],
   "source": [
    "# Fit the model using X as training data and y as target values\n",
    "clf.fit(X, y)"
   ]
  },
  {
   "cell_type": "code",
   "execution_count": 16,
   "id": "bbc1790c-5d81-48fd-8621-c87d868bd423",
   "metadata": {},
   "outputs": [
    {
     "data": {
      "image/png": "[encoded data removed]",
      "text/plain": [
       "<Figure size 432x288 with 1 Axes>"
      ]
     },
     "metadata": {
      "needs_background": "light"
     },
     "output_type": "display_data"
    }
   ],
   "source": [
    "plt.plot( X, marker='o')\n",
    "plt.xlabel('data points')\n",
    "plt.ylabel('actual value of X');"
   ]
  },
  {
   "cell_type": "code",
   "execution_count": 17,
   "id": "5be873b5-48a7-427a-9358-6ca96507e605",
   "metadata": {},
   "outputs": [],
   "source": [
    "test = 14"
   ]
  },
  {
   "cell_type": "code",
   "execution_count": 18,
   "id": "433963a0-a463-4db5-8747-991ee2512496",
   "metadata": {
    "scrolled": true
   },
   "outputs": [
    {
     "data": {
      "text/plain": [
       "array([0])"
      ]
     },
     "execution_count": 18,
     "metadata": {},
     "output_type": "execute_result"
    }
   ],
   "source": [
    "clf.predict([[test]])"
   ]
  },
  {
   "cell_type": "code",
   "execution_count": null,
   "id": "3c18293f-9345-47dc-bed1-da2f9de99d16",
   "metadata": {},
   "outputs": [],
   "source": []
  }
 ],
 "metadata": {
  "kernelspec": {
   "display_name": "Python 3 (ipykernel)",
   "language": "python",
   "name": "python3"
  },
  "language_info": {
   "codemirror_mode": {
    "name": "ipython",
    "version": 3
   },
   "file_extension": ".py",
   "mimetype": "text/x-python",
   "name": "python",
   "nbconvert_exporter": "python",
   "pygments_lexer": "ipython3",
   "version": "3.9.12"
  }
 },
 "nbformat": 4,
 "nbformat_minor": 5
}
